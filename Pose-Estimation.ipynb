{
 "cells": [
  {
   "cell_type": "code",
   "execution_count": null,
   "id": "5769afe2-b032-48b1-9366-88aa3b5d4e50",
   "metadata": {},
   "outputs": [],
   "source": [
    "import cv2\n",
    "import numpy as np\n",
    "import mediapipe as mp"
   ]
  },
  {
   "cell_type": "code",
   "execution_count": null,
   "id": "d1238ca6-2e29-4b2a-9739-ac957d6db564",
   "metadata": {},
   "outputs": [],
   "source": [
    "mp_drawing = mp.solutions.drawing_utils\n",
    "mp_pose = mp.solutions.pose"
   ]
  },
  {
   "cell_type": "markdown",
   "id": "1a202717-240b-47fd-a396-cc1e683d4d9a",
   "metadata": {},
   "source": [
    "0 - nose\n",
    "1 - left eye (inner)\n",
    "2 - left eye\n",
    "3 - left eye (outer)\n",
    "4 - right eye (inner)\n",
    "5 - right eye\n",
    "6 - right eye (outer)\n",
    "7 - left ear\n",
    "8 - right ear\n",
    "9 - mouth (left)\n",
    "10 - mouth (right)\n",
    "11 - left shoulder\n",
    "12 - right shoulder\n",
    "13 - left elbow\n",
    "14 - right elbow\n",
    "15 - left wrist\n",
    "16 - right wrist\n",
    "17 - left pinky\n",
    "18 - right pinky\n",
    "19 - left index\n",
    "20 - right index\n",
    "21 - left thumb\n",
    "22 - right thumb\n",
    "23 - left hip\n",
    "24 - right hip\n",
    "25 - left knee\n",
    "26 - right knee\n",
    "27 - left ankle\n",
    "28 - right ankle\n",
    "29 - left heel\n",
    "30 - right heel\n",
    "31 - left foot index\n",
    "32 - right foot index"
   ]
  },
  {
   "cell_type": "markdown",
   "id": "d50b0477-0ac8-435e-ba8b-6c46e3b948ea",
   "metadata": {
    "tags": []
   },
   "source": [
    "cap = cv2.VideoCapture(0)\n",
    "with mp_pose.Pose(min_detection_confidence = 0.5, min_tracking_confidence = 0.5) as pose:\n",
    "    \n",
    "    while cap.isOpened():\n",
    "        ret,frame = cap.read()\n",
    "        \n",
    "        image = cv2.cvtColor(frame,cv2.COLOR_BGR2RGB)\n",
    "        image.flags.writeable = False\n",
    "        \n",
    "        results = pose.process(image)\n",
    "        \n",
    "        image.flags.writeable = True\n",
    "        image = cv2.cvtColor(image,cv2.COLOR_RGB2BGR)\n",
    "\n",
    "        # Extract and print landmarks\n",
    "        if results.pose_landmarks:\n",
    "            landmarks = results.pose_landmarks.landmark\n",
    "            print(landmarks)\n",
    "        \n",
    "        mp_drawing.draw_landmarks (\n",
    "        image, results.pose_landmarks, mp_pose.POSE_CONNECTIONS,\n",
    "        mp_drawing.DrawingSpec(color=(245, 117, 66), thickness=2, circle_radius=2),\n",
    "        mp_drawing.DrawingSpec(color=(245, 66, 230), thickness=2, circle_radius=2)\n",
    "        )\n",
    "        \n",
    "        # print(results)\n",
    "        \n",
    "        cv2.imshow('Mediapipe Frame',image)\n",
    "\n",
    "        if cv2.waitKey(10) & 0xFF == ord('q'): \n",
    "            break\n",
    "\n",
    "    cap.release()\n",
    "    cv2.destroyAllWindows()\n"
   ]
  },
  {
   "cell_type": "code",
   "execution_count": null,
   "id": "8bcc9ac3-7916-4f53-b1b8-0c85def2fa2b",
   "metadata": {
    "tags": []
   },
   "outputs": [],
   "source": [
    "# mp_pose.POSE_CONNECTIONS"
   ]
  },
  {
   "cell_type": "code",
   "execution_count": null,
   "id": "06e8678b-4ee0-4b46-b12c-d105ed369dd9",
   "metadata": {
    "tags": []
   },
   "outputs": [],
   "source": [
    "# results.pose_landmarks"
   ]
  },
  {
   "cell_type": "code",
   "execution_count": null,
   "id": "50c21cfe-d1a5-49c7-9dff-fffee2342022",
   "metadata": {
    "tags": []
   },
   "outputs": [],
   "source": [
    "len(landmarks)"
   ]
  },
  {
   "cell_type": "code",
   "execution_count": null,
   "id": "8b6bfa72-70ee-4e49-81ec-cb5940682768",
   "metadata": {
    "tags": []
   },
   "outputs": [],
   "source": [
    "for a in mp_pose.PoseLandmark:  #  Will give you all landmarks available\n",
    "    print(a)"
   ]
  },
  {
   "cell_type": "code",
   "execution_count": 15,
   "id": "26574050-ad9e-4125-9c9a-1ba09e1eaaff",
   "metadata": {
    "tags": []
   },
   "outputs": [
    {
     "data": {
      "text/plain": [
       "x: 0.9029538\n",
       "y: 1.1298594\n",
       "z: -0.2788973\n",
       "visibility: 0.5138846"
      ]
     },
     "execution_count": 15,
     "metadata": {},
     "output_type": "execute_result"
    }
   ],
   "source": [
    "landmarks[mp_pose. PoseLandmark.LEFT_SHOULDER.value]"
   ]
  },
  {
   "cell_type": "code",
   "execution_count": 14,
   "id": "3620019a-8dcf-48c7-8f0a-28588c9c92b1",
   "metadata": {
    "tags": []
   },
   "outputs": [
    {
     "data": {
      "text/plain": [
       "11"
      ]
     },
     "execution_count": 14,
     "metadata": {},
     "output_type": "execute_result"
    }
   ],
   "source": [
    "mp_pose. PoseLandmark.LEFT_SHOULDER.value"
   ]
  }
 ],
 "metadata": {
  "kernelspec": {
   "display_name": "Python 3",
   "language": "python",
   "name": "python3"
  },
  "language_info": {
   "codemirror_mode": {
    "name": "ipython",
    "version": 3
   },
   "file_extension": ".py",
   "mimetype": "text/x-python",
   "name": "python",
   "nbconvert_exporter": "python",
   "pygments_lexer": "ipython3",
   "version": "3.11.5"
  }
 },
 "nbformat": 4,
 "nbformat_minor": 5
}
